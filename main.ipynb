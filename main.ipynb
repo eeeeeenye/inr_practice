{
 "cells": [
  {
   "cell_type": "code",
   "execution_count": 2,
   "id": "36947f76-f115-4d07-b260-064151aba18c",
   "metadata": {},
   "outputs": [],
   "source": [
    "from packages import WindModel\n",
    "import pandas as pd\n",
    "import numpy as np\n",
    "import torch\n",
    "from torch.utils.data import Dataset\n",
    "\n",
    "class ClimateINRDataset(Dataset):\n",
    "    def __init__(self, csv_path):\n",
    "        super().__init__()\n",
    "        df = pd.read_csv(csv_path)\n",
    "\n",
    "        self.lons = torch.tensor(df['longitude'].values, dtype=torch.float32)\n",
    "        self.lats = torch.tensor(df['latitude'].values, dtype=torch.float32)\n",
    "        self.times = torch.tensor(df['time'].values, dtype=torch.float32)\n",
    "\n",
    "        # min-max 정규화\n",
    "        self.lons = 2 * (self.lons - self.lons.min()) / (self.lons.max() - self.lons.min())-1\n",
    "        self.lats = 2  * (self.lats - self.lats.min()) / (self.lats.max() - self.lats.min()) - 1\n",
    "        self.time = 2 * (self.times - self.times.min()) / (self.times.max() - self.times.min()) - 1\n",
    "\n",
    "        self.coords = torch.stack([self.lons, self.lats, self.times], dim=-1)\n",
    "\n",
    "        # 출력값\n",
    "        self.values = torch.tensor(df[['u_wind', 'relative_humidity']].values, dtype=torch.float32)\n",
    "\n",
    "    def __len__(self):\n",
    "        return len(self.coords)\n",
    "    \n",
    "    def __getitem__(self, idx):\n",
    "        return self.coords[idx], self.values[idx]"
   ]
  },
  {
   "cell_type": "code",
   "execution_count": 3,
   "id": "ba31945d",
   "metadata": {},
   "outputs": [],
   "source": [
    "def gradient(y, x):\n",
    "    grad = torch.autograd.grad(\n",
    "        outputs=y,\n",
    "        inputs=x,\n",
    "        grad_outputs=torch.ones_like(y),\n",
    "        create_graph=True,\n",
    "        retain_graph=True,\n",
    "        only_inputs=True\n",
    "    )[0]\n",
    "    return grad\n",
    "\n",
    "def laplace(y, x):\n",
    "    grad = gradient(y, x)\n",
    "    lap = 0.0\n",
    "    for i in range(grad.shape[-1]):\n",
    "        lap += torch.autograd.grad(\n",
    "            grad[..., i],\n",
    "            x,\n",
    "            grad_outputs=torch.ones_like(grad[..., i]),\n",
    "            create_graph=True,\n",
    "            retain_graph=True,\n",
    "            only_inputs=True\n",
    "        )[0][..., i]\n",
    "    return lap"
   ]
  },
  {
   "cell_type": "code",
   "execution_count": 4,
   "id": "fe6bd895",
   "metadata": {},
   "outputs": [
    {
     "name": "stdout",
     "output_type": "stream",
     "text": [
      "좌표 (lat, lon, time):  torch.Size([32, 3])\n",
      "출력 (u_wimd, humidity): torch.Size([32, 2])\n"
     ]
    }
   ],
   "source": [
    "dataset = ClimateINRDataset('data/high_res_climate.csv')\n",
    "dataloader = torch.utils.data.DataLoader(dataset, batch_size=32, shuffle=True)\n",
    "\n",
    "for coords, values in dataloader:\n",
    "    print('좌표 (lat, lon, time): ', coords.shape)\n",
    "    print(\"출력 (u_wimd, humidity):\", values.shape)\n",
    "    break"
   ]
  },
  {
   "cell_type": "code",
   "execution_count": 5,
   "id": "eb944dec",
   "metadata": {},
   "outputs": [
    {
     "name": "stdout",
     "output_type": "stream",
     "text": [
      "torch.Size([32, 3])\n",
      "Step [  0/500], loss 1845.663574\n"
     ]
    },
    {
     "ename": "RuntimeError",
     "evalue": "shape '[5, 5]' is invalid for input of size 32",
     "output_type": "error",
     "traceback": [
      "\u001b[1;31m---------------------------------------------------------------------------\u001b[0m",
      "\u001b[1;31mRuntimeError\u001b[0m                              Traceback (most recent call last)",
      "Cell \u001b[1;32mIn[5], line 43\u001b[0m\n\u001b[0;32m     40\u001b[0m img_size \u001b[38;5;241m=\u001b[39m \u001b[38;5;28mint\u001b[39m(num_points \u001b[38;5;241m*\u001b[39m\u001b[38;5;241m*\u001b[39m \u001b[38;5;241m0.5\u001b[39m)\n\u001b[0;32m     42\u001b[0m fig, axes \u001b[38;5;241m=\u001b[39m plt\u001b[38;5;241m.\u001b[39msubplots(\u001b[38;5;241m1\u001b[39m, \u001b[38;5;241m3\u001b[39m, figsize\u001b[38;5;241m=\u001b[39m(\u001b[38;5;241m18\u001b[39m, \u001b[38;5;241m6\u001b[39m))\n\u001b[1;32m---> 43\u001b[0m axes[\u001b[38;5;241m0\u001b[39m]\u001b[38;5;241m.\u001b[39mimshow(\u001b[43mu_wind\u001b[49m\u001b[38;5;241;43m.\u001b[39;49m\u001b[43mview\u001b[49m\u001b[43m(\u001b[49m\u001b[43mimg_size\u001b[49m\u001b[43m,\u001b[49m\u001b[43m \u001b[49m\u001b[43mimg_size\u001b[49m\u001b[43m)\u001b[49m\u001b[38;5;241m.\u001b[39mcpu()\u001b[38;5;241m.\u001b[39mdetach()\u001b[38;5;241m.\u001b[39mnumpy(), cmap\u001b[38;5;241m=\u001b[39m\u001b[38;5;124m'\u001b[39m\u001b[38;5;124mviridis\u001b[39m\u001b[38;5;124m'\u001b[39m)\n\u001b[0;32m     44\u001b[0m axes[\u001b[38;5;241m0\u001b[39m]\u001b[38;5;241m.\u001b[39mset_title(\u001b[38;5;124m'\u001b[39m\u001b[38;5;124mU Wind\u001b[39m\u001b[38;5;124m'\u001b[39m)\n\u001b[0;32m     46\u001b[0m axes[\u001b[38;5;241m1\u001b[39m]\u001b[38;5;241m.\u001b[39mimshow(img_grad\u001b[38;5;241m.\u001b[39mnorm(dim\u001b[38;5;241m=\u001b[39m\u001b[38;5;241m-\u001b[39m\u001b[38;5;241m1\u001b[39m)\u001b[38;5;241m.\u001b[39mview(img_size, img_size)\u001b[38;5;241m.\u001b[39mcpu()\u001b[38;5;241m.\u001b[39mdetach()\u001b[38;5;241m.\u001b[39mnumpy(), cmap\u001b[38;5;241m=\u001b[39m\u001b[38;5;124m'\u001b[39m\u001b[38;5;124mplasma\u001b[39m\u001b[38;5;124m'\u001b[39m)\n",
      "\u001b[1;31mRuntimeError\u001b[0m: shape '[5, 5]' is invalid for input of size 32"
     ]
    },
    {
     "ename": "",
     "evalue": "",
     "output_type": "error",
     "traceback": [
      "\u001b[1;31mThe Kernel crashed while executing code in the current cell or a previous cell. \n",
      "\u001b[1;31mPlease review the code in the cell(s) to identify a possible cause of the failure. \n",
      "\u001b[1;31mClick <a href='https://aka.ms/vscodeJupyterKernelCrash'>here</a> for more info. \n",
      "\u001b[1;31mView Jupyter <a href='command:jupyter.viewOutput'>log</a> for further details."
     ]
    }
   ],
   "source": [
    "import torch\n",
    "import matplotlib.pyplot as plt\n",
    "from torch.utils.data import DataLoader\n",
    "from packages import WindModel  # 너가 정의한 INR 모델\n",
    "# from utils import gradient, laplace  # 혹은 직접 정의한 함수\n",
    "\n",
    "# 하이퍼파라미터\n",
    "total_steps = 500\n",
    "steps_til_summary = 100\n",
    "lr = 1e-4\n",
    "\n",
    "# 모델 초기화\n",
    "model = WindModel(num_frequencies=10).cuda()\n",
    "optimizer = torch.optim.Adam(model.parameters(), lr=lr)\n",
    "\n",
    "# 데이터 준비\n",
    "model_input, ground_truth = next(iter(dataloader))\n",
    "model_input, ground_truth = model_input.cuda(), ground_truth.cuda()\n",
    "print(model_input.shape)\n",
    "\n",
    "# 학습 루프\n",
    "for step in range(total_steps):\n",
    "    lon_lat = model_input[:, :2]   # (batch_size, 2)\n",
    "    time = model_input[:, 2:]      # (batch_size, 1)\n",
    "\n",
    "    model_output, coords = model(lon_lat, time)\n",
    "    loss = ((model_output - ground_truth) ** 2).mean()\n",
    "\n",
    "    # 시각화: 일정 step마다 출력\n",
    "    if step % steps_til_summary == 0:\n",
    "        print(f'Step [{step:3d}/{total_steps:3d}], loss {loss.item():.6f}')\n",
    "        img_grad = gradient(model_output, coords)\n",
    "        img_laplacian = laplace(model_output, coords)\n",
    "        num_points = model_input.shape[0]\n",
    "\n",
    "        # 출력값은 단일 변수라고 가정 (e.g. u_wind)\n",
    "        u_wind = model_output[:, 0]\n",
    "        humidity = model_output[:, 1]\n",
    "\n",
    "        img_size = int(num_points ** 0.5)\n",
    "\n",
    "        fig, axes = plt.subplots(1, 3, figsize=(18, 6))\n",
    "        axes[0].imshow(u_wind.view(img_size, img_size).cpu().detach().numpy(), cmap='viridis')\n",
    "        axes[0].set_title('U Wind')\n",
    "\n",
    "        axes[1].imshow(img_grad.norm(dim=-1).view(img_size, img_size).cpu().detach().numpy(), cmap='plasma')\n",
    "        axes[1].set_title('Gradient Norm')\n",
    "\n",
    "        axes[2].imshow(img_laplacian.view(img_size, img_size).cpu().detach().numpy(), cmap='inferno')\n",
    "        axes[2].set_title('Laplacian')\n",
    "\n",
    "        plt.tight_layout()\n",
    "        plt.show()\n",
    "\n",
    "    optimizer.zero_grad()\n",
    "    loss.backward()\n",
    "    optimizer.step()\n"
   ]
  },
  {
   "cell_type": "code",
   "execution_count": null,
   "id": "f5d94996",
   "metadata": {},
   "outputs": [],
   "source": []
  }
 ],
 "metadata": {
  "kernelspec": {
   "display_name": "INR_climate",
   "language": "python",
   "name": "python3"
  },
  "language_info": {
   "codemirror_mode": {
    "name": "ipython",
    "version": 3
   },
   "file_extension": ".py",
   "mimetype": "text/x-python",
   "name": "python",
   "nbconvert_exporter": "python",
   "pygments_lexer": "ipython3",
   "version": "3.8.20"
  }
 },
 "nbformat": 4,
 "nbformat_minor": 5
}
